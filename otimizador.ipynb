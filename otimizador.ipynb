{
 "cells": [
  {
   "cell_type": "code",
   "execution_count": 539,
   "metadata": {},
   "outputs": [],
   "source": [
    "import pandas as pd\n",
    "from datetime import datetime, timedelta\n",
    "from ortools.linear_solver import pywraplp\n",
    "from ortools.linear_solver.pywraplp import Variable\n",
    "from babel.numbers import format_currency"
   ]
  },
  {
   "cell_type": "code",
   "execution_count": 540,
   "metadata": {},
   "outputs": [],
   "source": [
    "produto_dados = {}\n",
    "produto_parametro = {}\n",
    "producao_produto = {}\n",
    "venda_produto = {}\n",
    "dia = datetime.today().weekday()"
   ]
  },
  {
   "cell_type": "code",
   "execution_count": 541,
   "metadata": {},
   "outputs": [],
   "source": [
    "def solver_config(gap_limit: float = 1e-3, time_limit: int = 60000 ):\n",
    "        global solver, solverParams\n",
    "\n",
    "        solver = pywraplp.Solver('hello_program', pywraplp.Solver.CBC_MIXED_INTEGER_PROGRAMMING)\n",
    "        solver.EnableOutput()\n",
    "        solver.SetTimeLimit(time_limit)\n",
    "        solverParams = pywraplp.MPSolverParameters()\n",
    "        solverParams.SetDoubleParam(solverParams.RELATIVE_MIP_GAP, gap_limit)\n",
    "\n",
    "        return solver, solverParams"
   ]
  },
  {
   "cell_type": "code",
   "execution_count": 542,
   "metadata": {},
   "outputs": [],
   "source": [
    "dados_produtos = pd.read_csv('dados_produtos.csv', delimiter=',')\n",
    "parametros_produtos = pd.read_csv('parametros_produtos.csv', delimiter=',')"
   ]
  },
  {
   "cell_type": "code",
   "execution_count": 543,
   "metadata": {},
   "outputs": [],
   "source": [
    "def obter_dados():\n",
    "    global produto_dados\n",
    "\n",
    "    for _, row in dados_produtos.iterrows():\n",
    "        idProduto = str(row.idProduto)\n",
    "    \n",
    "        if idProduto not in produto_dados:\n",
    "            produto_dados[idProduto] = {}\n",
    "        \n",
    "        produto_dados[idProduto][\"data\"] = row.data\n",
    "        produto_dados[idProduto][\"nomeProduto\"] = row.nomeProduto\n",
    "        produto_dados[idProduto][\"qtde\"] = row.qtde\n",
    "        produto_dados[idProduto][\"estoque_minimo\"] = row.estoque_minimo\n",
    "        produto_dados[idProduto][\"producao_maxima\"] = row.producao_maxima\n",
    "        produto_dados[idProduto][\"producao_minima\"] = row.producao_minima\n",
    "        produto_dados[idProduto][\"custoUnitario\"] = row.custoUnitario\n",
    "        produto_dados[idProduto][\"custoTotal\"] = row.custoTotal\n",
    "        produto_dados[idProduto][\"precoVenda\"] = row.precoVenda        "
   ]
  },
  {
   "cell_type": "code",
   "execution_count": 544,
   "metadata": {},
   "outputs": [],
   "source": [
    "def obter_parametros():\n",
    "    global produto_parametro\n",
    "\n",
    "    for _, row in parametros_produtos.iterrows():\n",
    "        dia = row.dia_semana\n",
    "        if dia not in parametros_produtos:\n",
    "            produto_parametro[dia] = {}\n",
    "\n",
    "        produto_parametro[dia][\"venda_maximo\"] = row.venda_maximo\n",
    "        produto_parametro[dia][\"venda_minimo\"] = row.venda_minimo\n",
    "        produto_parametro[dia][\"venda_minima_produto\"] = int(row.venda_minima_produto)\n",
    "        produto_parametro[dia][\"venda_maxima_produto\"] = int(row.venda_maxima_produto)"
   ]
  },
  {
   "cell_type": "code",
   "execution_count": 545,
   "metadata": {},
   "outputs": [],
   "source": [
    "def variaveis_otimizacao():\n",
    "    global solver, produto_dados, produto_parametro, producao_produto, venda_produto, dia\n",
    "    \n",
    "    for id in produto_dados:\n",
    "        producao_produto[id] = solver.IntVar(produto_dados[id][\"producao_minima\"],produto_dados[id][\"producao_maxima\"],f'qtd_producao_{id}')\n",
    "        \n",
    "        venda_produto[id] = solver.IntVar(produto_parametro[dia][\"venda_minima_produto\"],produto_parametro[dia][\"venda_maxima_produto\"],f'qtd_venda_{id}')"
   ]
  },
  {
   "cell_type": "code",
   "execution_count": 546,
   "metadata": {},
   "outputs": [],
   "source": [
    "def funcao_objetivo():\n",
    "    global solver, producao_produto, produto_dados, produto_parametro\n",
    "\n",
    "    objetivo = solver.Objective()\n",
    "    for id in produto_dados:\n",
    "        lucro_unidade = produto_dados[id][\"precoVenda\"] - produto_dados[id][\"custoUnitario\"]\n",
    "        objetivo.SetCoefficient(venda_produto[id],lucro_unidade)\n",
    "    \n",
    "    objetivo.SetMaximization()"
   ]
  },
  {
   "cell_type": "code",
   "execution_count": 547,
   "metadata": {},
   "outputs": [],
   "source": [
    "def regras_otimizacao():\n",
    "    global solver, produto_dados, produto_parametro, dia\n",
    "\n",
    "    for id in produto_dados:\n",
    "        #Restrição de venda menor que produção\n",
    "        solver.Add(venda_produto[id] <= producao_produto[id])\n",
    "        #Restrição de produção máxima\n",
    "        solver.Add(producao_produto[id] <= produto_dados[id][\"producao_maxima\"])\n",
    "        #Restrição de produção mínima\n",
    "        solver.Add(producao_produto[id] >= produto_dados[id][\"producao_minima\"])   \n",
    "        #Restrição estoque mínimo dia seguinte\n",
    "        solver.Add((producao_produto[id] - venda_produto[id]) == produto_dados[id][\"estoque_minimo\"])     \n",
    "        \n",
    "    #Restrição de venda máxima\n",
    "    solver.Add(sum(venda_produto[id] for id in produto_dados) <= produto_parametro[dia][\"venda_maximo\"])\n",
    "    #Restrição de venda mínima\n",
    "    solver.Add(sum(venda_produto[id] for id in produto_dados) >= produto_parametro[dia][\"venda_minimo\"])"
   ]
  },
  {
   "cell_type": "code",
   "execution_count": 548,
   "metadata": {},
   "outputs": [],
   "source": [
    "def resolver():\n",
    "    global solver, produto_dados, produto_parametro, producao_produto,venda_produto, dia\n",
    "\n",
    "    info = []\n",
    "\n",
    "    status = solver.Solve(solverParams)\n",
    "    for id in produto_dados:\n",
    "        if(status == pywraplp.Solver.OPTIMAL or status == pywraplp.Solver.FEASIBLE):\n",
    "            receita = 0\n",
    "            custos = 0\n",
    "            lucro = 0\n",
    "            for id in produto_dados:\n",
    "                producao = producao_produto[id].solution_value()\n",
    "                venda = venda_produto[id].solution_value()\n",
    "                estoque = producao - venda\n",
    "                print(f'Produção de {produto_dados[id][\"nomeProduto\"]}: {producao}\\tUnidades vendidas: {venda}\\tUnidades em estoque: {estoque}')\n",
    "                receita += venda * produto_dados[id][\"precoVenda\"]\n",
    "                custos += producao * produto_dados[id][\"custoUnitario\"]\n",
    "                lucro += receita - custos                \n",
    "                info.append([\n",
    "                    id,\n",
    "                    produto_dados[id][\"nomeProduto\"],\n",
    "                    producao,\n",
    "                    venda,\n",
    "                    produto_dados[id][\"precoVenda\"],    #Preço unitário\n",
    "                    venda * produto_dados[id][\"precoVenda\"],    #Receita total\n",
    "                    produto_dados[id][\"custoUnitario\"], #custo unitario\n",
    "                    producao * produto_dados[id][\"custoUnitario\"],  #custos totais\n",
    "                    (venda * produto_dados[id][\"precoVenda\"]) -(producao * produto_dados[id][\"custoUnitario\"]), #lucro\n",
    "                ])\n",
    "            print(f'\\nReceita total: {format_currency(receita, \"BRL\", locale=\"pt_br\")}')\n",
    "            print(f'Custos totais: {format_currency(custos, \"BRL\", locale=\"pt_br\")}')\n",
    "            print(f'Lucro líquido: {format_currency(lucro, \"BRL\", locale=\"pt_br\")}')\n",
    "            return info\n",
    "        else:\n",
    "            print(\"Nenhuma solução encontrada!\")\n",
    "            return None\n"
   ]
  },
  {
   "cell_type": "code",
   "execution_count": 549,
   "metadata": {},
   "outputs": [],
   "source": [
    "def otimizar():\n",
    "    solver_config()\n",
    "    obter_dados()\n",
    "    obter_parametros()\n",
    "    variaveis_otimizacao()\n",
    "    funcao_objetivo()\n",
    "    regras_otimizacao()\n",
    "    \n",
    "    if not isinstance(f := resolver(), type(None)):\n",
    "        colunas = [\"ID Produto\",\"Produto\",\"Unidades Produzidas\",\"Unidades Vendidas\",\"Preço Unitário\",\"Receita\",\"Custo Unitário\",\"Custos Totais\",\"Lucro\"]\n",
    "        df = pd.DataFrame(f,columns=colunas)\n",
    "        df.to_csv(\"output.csv\", sep=\";\", decimal=\",\",columns=colunas, index=False)"
   ]
  },
  {
   "cell_type": "code",
   "execution_count": 550,
   "metadata": {},
   "outputs": [
    {
     "name": "stdout",
     "output_type": "stream",
     "text": [
      "Produção de Produto1: 1000.0\tUnidades vendidas: 750.0\tUnidades em estoque: 250.0\n",
      "Produção de Produto2: 1100.0\tUnidades vendidas: 1000.0\tUnidades em estoque: 100.0\n",
      "Produção de Produto3: 830.0\tUnidades vendidas: 680.0\tUnidades em estoque: 150.0\n",
      "Produção de Produto4: 1075.0\tUnidades vendidas: 1000.0\tUnidades em estoque: 75.0\n",
      "Produção de Produto5: 1100.0\tUnidades vendidas: 1000.0\tUnidades em estoque: 100.0\n",
      "\n",
      "Receita total: R$ 250.890,00\n",
      "Custos totais: R$ 99.280,00\n",
      "Lucro líquido: R$ 467.030,00\n"
     ]
    }
   ],
   "source": [
    "otimizar()"
   ]
  }
 ],
 "metadata": {
  "kernelspec": {
   "display_name": "Python 3",
   "language": "python",
   "name": "python3"
  },
  "language_info": {
   "codemirror_mode": {
    "name": "ipython",
    "version": 3
   },
   "file_extension": ".py",
   "mimetype": "text/x-python",
   "name": "python",
   "nbconvert_exporter": "python",
   "pygments_lexer": "ipython3",
   "version": "3.11.6"
  }
 },
 "nbformat": 4,
 "nbformat_minor": 2
}
