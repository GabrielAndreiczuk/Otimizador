{
 "cells": [
  {
   "cell_type": "code",
   "execution_count": 33,
   "metadata": {},
   "outputs": [],
   "source": [
    "import pandas as pd\n",
    "import random\n",
    "from datetime import datetime, timedelta"
   ]
  },
  {
   "cell_type": "code",
   "execution_count": null,
   "metadata": {},
   "outputs": [
    {
     "name": "stdout",
     "output_type": "stream",
     "text": [
      "51\n",
      "84\n",
      "48\n",
      "45\n",
      "51\n"
     ]
    }
   ],
   "source": [
    "# Gerar dados fictícios\n",
    "random.seed(42)\n",
    "num_registros = 5\n",
    "data = [datetime.today().date() for _ in range(num_registros)]\n",
    "idProduto = [random.randint(100, 300) for _ in range(num_registros)]\n",
    "nomeProduto = [\"Nome\" for _ in range(num_registros)]\n",
    "qtde = [random.randint(100,1000) for _ in range(num_registros)]\n",
    "custoUnitario = [random.randint(15,30) for _ in range(num_registros)]\n",
    "custoTotal = [(qtde[_] * custoUnitario[_]) for _ in range(num_registros)]\n",
    "precoVenda = [(custoUnitario[_] * 3) for _ in range(num_registros)]"
   ]
  },
  {
   "cell_type": "code",
   "execution_count": 35,
   "metadata": {},
   "outputs": [],
   "source": [
    "# Criar o DataFrame com os dados\n",
    "dataf = {\n",
    "    \"data\" : data,\n",
    "    \"idProduto\": idProduto,\n",
    "    \"nomeProduto\": nomeProduto,\n",
    "    \"qtde\": qtde,\n",
    "    \"custoUnitario\": custoUnitario,\n",
    "    \"custoTotal\": custoTotal,\n",
    "    \"precoVenda\": precoVenda\n",
    "}\n",
    "\n",
    "df = pd.DataFrame(dataf)\n",
    "df.to_csv(\"dados_produtos.csv\", sep=\",\", decimal=\".\", index=False)"
   ]
  }
 ],
 "metadata": {
  "kernelspec": {
   "display_name": "Python 3",
   "language": "python",
   "name": "python3"
  },
  "language_info": {
   "codemirror_mode": {
    "name": "ipython",
    "version": 3
   },
   "file_extension": ".py",
   "mimetype": "text/x-python",
   "name": "python",
   "nbconvert_exporter": "python",
   "pygments_lexer": "ipython3",
   "version": "3.11.6"
  }
 },
 "nbformat": 4,
 "nbformat_minor": 2
}
