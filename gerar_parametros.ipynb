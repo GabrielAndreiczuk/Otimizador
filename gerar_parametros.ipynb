{
 "cells": [
  {
   "cell_type": "code",
   "execution_count": 3,
   "metadata": {},
   "outputs": [],
   "source": [
    "import pandas as pd\n",
    "import random\n",
    "from datetime import datetime, timedelta"
   ]
  },
  {
   "cell_type": "code",
   "execution_count": 4,
   "metadata": {},
   "outputs": [],
   "source": [
    "# Gerar dados fictícios\n",
    "random.seed(42)\n",
    "num_registros = 7\n",
    "venda_maximo = [random.randint(500,750) for _ in range(num_registros)]\n",
    "venda_minimo = [random.randint(100,200) for _ in range(num_registros)]\n",
    "venda_minima_produto = 50\n",
    "venda_maxima_produto = 200"
   ]
  },
  {
   "cell_type": "code",
   "execution_count": 5,
   "metadata": {},
   "outputs": [],
   "source": [
    "# Criar o DataFrame com os dados\n",
    "dataf = {\n",
    "    \"venda_maximo\" : venda_maximo,\n",
    "    \"venda_minimo\": venda_minimo,\n",
    "    \"venda_minima_produto\": venda_minima_produto,\n",
    "    \"venda_maxima_produto\": venda_maxima_produto,\n",
    "}\n",
    "\n",
    "df = pd.DataFrame(dataf)\n",
    "df.to_csv(\"parametros_produtos.csv\", sep=\",\", decimal=\".\", index=False)"
   ]
  }
 ],
 "metadata": {
  "kernelspec": {
   "display_name": "Python 3",
   "language": "python",
   "name": "python3"
  },
  "language_info": {
   "codemirror_mode": {
    "name": "ipython",
    "version": 3
   },
   "file_extension": ".py",
   "mimetype": "text/x-python",
   "name": "python",
   "nbconvert_exporter": "python",
   "pygments_lexer": "ipython3",
   "version": "3.11.6"
  }
 },
 "nbformat": 4,
 "nbformat_minor": 2
}
